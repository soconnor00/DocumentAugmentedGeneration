{
 "cells": [
  {
   "cell_type": "code",
   "execution_count": 1,
   "metadata": {},
   "outputs": [],
   "source": [
    "# Import deps\n",
    "from langchain.document_loaders import TextLoader\n",
    "from langchain.text_splitter import CharacterTextSplitter"
   ]
  },
  {
   "cell_type": "code",
   "execution_count": 2,
   "metadata": {},
   "outputs": [],
   "source": [
    "query = \"Who is the CEO of OpenAI?\"\n",
    "model_path=\"../models/llama-2-7b.Q5_K_M.gguf\""
   ]
  },
  {
   "cell_type": "code",
   "execution_count": 3,
   "metadata": {},
   "outputs": [],
   "source": [
    "# Load document\n",
    "loader = TextLoader('../docs/raw.txt')\n",
    "docs = loader.load()"
   ]
  },
  {
   "cell_type": "code",
   "execution_count": 4,
   "metadata": {},
   "outputs": [
    {
     "name": "stderr",
     "output_type": "stream",
     "text": [
      "Created a chunk of size 637, which is longer than the specified 100\n",
      "Created a chunk of size 412, which is longer than the specified 100\n",
      "Created a chunk of size 316, which is longer than the specified 100\n",
      "Created a chunk of size 748, which is longer than the specified 100\n",
      "Created a chunk of size 411, which is longer than the specified 100\n",
      "Created a chunk of size 648, which is longer than the specified 100\n",
      "Created a chunk of size 527, which is longer than the specified 100\n",
      "Created a chunk of size 308, which is longer than the specified 100\n",
      "Created a chunk of size 458, which is longer than the specified 100\n",
      "Created a chunk of size 116, which is longer than the specified 100\n",
      "Created a chunk of size 595, which is longer than the specified 100\n",
      "Created a chunk of size 257, which is longer than the specified 100\n",
      "Created a chunk of size 393, which is longer than the specified 100\n",
      "Created a chunk of size 434, which is longer than the specified 100\n",
      "Created a chunk of size 584, which is longer than the specified 100\n",
      "Created a chunk of size 409, which is longer than the specified 100\n",
      "Created a chunk of size 189, which is longer than the specified 100\n",
      "Created a chunk of size 406, which is longer than the specified 100\n",
      "Created a chunk of size 694, which is longer than the specified 100\n",
      "Created a chunk of size 180, which is longer than the specified 100\n",
      "Created a chunk of size 296, which is longer than the specified 100\n",
      "Created a chunk of size 112, which is longer than the specified 100\n",
      "Created a chunk of size 781, which is longer than the specified 100\n",
      "Created a chunk of size 191, which is longer than the specified 100\n",
      "Created a chunk of size 345, which is longer than the specified 100\n",
      "Created a chunk of size 107, which is longer than the specified 100\n",
      "Created a chunk of size 743, which is longer than the specified 100\n",
      "Created a chunk of size 847, which is longer than the specified 100\n",
      "Created a chunk of size 869, which is longer than the specified 100\n"
     ]
    }
   ],
   "source": [
    "# Transform into chunks\n",
    "text_splitter = CharacterTextSplitter(chunk_size=100, chunk_overlap=0)\n",
    "texts = text_splitter.split_documents(docs)"
   ]
  },
  {
   "cell_type": "code",
   "execution_count": 5,
   "metadata": {},
   "outputs": [
    {
     "data": {
      "text/plain": [
       "1"
      ]
     },
     "execution_count": 5,
     "metadata": {},
     "output_type": "execute_result"
    }
   ],
   "source": [
    "# Compare the size of docs and texts\n",
    "len(docs)"
   ]
  },
  {
   "cell_type": "code",
   "execution_count": 6,
   "metadata": {},
   "outputs": [
    {
     "data": {
      "text/plain": [
       "31"
      ]
     },
     "execution_count": 6,
     "metadata": {},
     "output_type": "execute_result"
    }
   ],
   "source": [
    "len(texts)"
   ]
  },
  {
   "cell_type": "code",
   "execution_count": 7,
   "metadata": {},
   "outputs": [
    {
     "name": "stdout",
     "output_type": "stream",
     "text": [
      "[Document(page_content='OpenAI is an American artificial intelligence (AI) research organization consisting of the non-profit OpenAI, Inc.[4] registered in Delaware and its for-profit subsidiary OpenAI Global, LLC.[5] OpenAI researches artificial intelligence with the declared intention of developing \"safe and beneficial\" artificial general intelligence, which it defines as \"highly autonomous systems that outperform humans at most economically valuable work\".[6] OpenAI has also developed several large language models, such as ChatGPT and GPT-4, as well as advanced image generation models like DALL-E 3,[7] and in the past published open-source models.[8]\\n\\nThe organization was founded in December 2015 by Ilya Sutskever, Greg Brockman, Trevor Blackwell, Vicki Cheung, Andrej Karpathy, Durk Kingma, Jessica Livingston, John Schulman, Pamela Vagata, and Wojciech Zaremba, with Sam Altman and Elon Musk serving as the initial board members.[9][10][11] Microsoft provided OpenAI Global LLC with a $1 billion investment in 2019 and a $10 billion investment in 2023.[12][13]\\n\\nOn November 17, 2023, the board removed Altman as CEO, while Brockman was removed as chairman and then resigned as president. Four days later, both returned after negotiations with the board, and most of the board members resigned. The new initial board included former Salesforce co-CEO Bret Taylor as chairman.[14]\\n\\nHistory\\n2015–2018: Non-profit beginnings\\nIn December 2015, Sam Altman, Greg Brockman, Reid Hoffman, Jessica Livingston, Peter Thiel, Elon Musk, Amazon Web Services (AWS), Infosys, and YC Research announced[15] the formation of OpenAI and pledged over $1 billion to the venture. The actual collected total amount of contributions was only $130 million until 2019.[5] According to an investigation led by TechCrunch, Musk was its largest donor while YC Research did not contribute anything at all.[16] The organization stated it would \"freely collaborate\" with other institutions and researchers by making its patents and research open to the public.[17][18] OpenAI is headquartered at the Pioneer Building in Mission District, San Francisco.[19][20]\\n\\nAccording to Wired, Brockman met with Yoshua Bengio, one of the \"founding fathers\" of deep learning, and drew up a list of the \"best researchers in the field\".[21] Brockman was able to hire nine of them as the first employees in December 2015.[21] In 2016, OpenAI paid corporate-level (rather than nonprofit-level) salaries, but did not pay AI researchers salaries comparable to those of Facebook or Google.[21]\\n\\nMicrosoft\\'s Peter Lee stated that the cost of a top AI researcher exceeds the cost of a top NFL quarterback prospect.[21] OpenAI\\'s potential and mission drew these researchers to the firm; a Google employee said he was willing to leave Google for OpenAI \"partly because of the very strong group of people and, to a very large extent, because of its mission.\"[21] Brockman stated that \"the best thing that I could imagine doing was moving humanity closer to building real AI in a safe way.\"[21] OpenAI co-founder Wojciech Zaremba stated that he turned down \"borderline crazy\" offers of two to three times his market value to join OpenAI instead.[21]\\n\\nIn April 2016, OpenAI released a public beta of \"OpenAI Gym\", its platform for reinforcement learning research.[22] Nvidia gifted its first DGX-1 supercomputer to OpenAI in August 2016 to help it train larger and more complex AI models with the capability of reducing processing time from six days to two hours.[23][24] In December 2016, OpenAI released \"Universe\", a software platform for measuring and training an AI\\'s general intelligence across the world\\'s supply of games, websites, and other applications.[25][26][27][28]\\n\\nIn 2017 OpenAI spent $7.9 million, or a quarter of its functional expenses, on cloud computing alone.[29] In comparison, DeepMind\\'s total expenses in 2017 were $442 million. In the summer of 2018, simply training OpenAI\\'s Dota 2 bots required renting 128,000 CPUs and 256 GPUs from Google for multiple weeks.\\n\\nIn 2018, Musk resigned from his board seat, citing \"a potential future conflict [of interest]\" with his role as CEO of Tesla due to Tesla\\'s AI development for self-driving cars.[30] Sam Altman claims that Musk believed OpenAI had fallen behind other players like Google and Musk proposed instead to take over OpenAI himself, which the board rejected. Musk subsequently left OpenAI but claimed to remain a donor, yet made no donations after his departure.[31]\\n\\nIn February 2019, GPT-2 was announced, which got a lot of attention for its ability to generate human-like text.[32]\\n\\n2019: Transition from non-profit\\nIn 2019, OpenAI transitioned from non-profit to \"capped\" for-profit, with the profit being capped at 100 times any investment.[33] According to OpenAI, the capped-profit model allows OpenAI Global LLC to legally attract investment from venture funds and, in addition, to grant employees stakes in the company.[34] Many top researchers work for Google Brain, DeepMind, or Facebook , which offer stock options that a nonprofit would be unable to.[35] Before the transition, public disclosure of the compensation of top employees at OpenAI was legally required.[36]\\n\\nThe company then distributed equity to its employees and partnered with Microsoft,[37] announcing an investment package of $1 billion into the company. Since then, OpenAI systems have run on an Azure-based supercomputing platform from Microsoft.[38][39][40]\\n\\nOpenAI Global LLC then announced its intention to commercially license its technologies.[41] It planned to spend the $1 billion \"within five years, and possibly much faster.\"[42] Altman has stated that even a billion dollars may turn out to be insufficient, and that the lab may ultimately need \"more capital than any non-profit has ever raised\" to achieve artificial general intelligence.[43]\\n\\nThe transition from a nonprofit to a capped-profit company was viewed with skepticism by Oren Etzioni of the nonprofit Allen Institute for AI, who agreed that wooing top researchers to a nonprofit is difficult, but stated \"I disagree with the notion that a nonprofit can\\'t compete\" and pointed to successful low-budget projects by OpenAI and others. \"If bigger and better funded was always better, then IBM would still be number one.\"\\n\\nThe nonprofit, OpenAI, Inc., is the sole controlling shareholder of OpenAI Global LLC, which, despite being a for-profit company, retains a formal fiduciary responsibility to OpenAI, Inc.\\'s nonprofit charter. A majority of OpenAI, Inc.\\'s board is barred from having financial stakes in OpenAI Global LLC.[34] In addition, minority members with a stake in OpenAI Global LLC are barred from certain votes due to conflict of interest.[35] Some researchers have argued that OpenAI Global LLC\\'s switch to for-profit status is inconsistent with OpenAI\\'s claims to be \"democratizing\" AI.[44]\\n\\n2020–2023: ChatGPT, DALL-E, and partnership with Microsoft\\nIn 2020, OpenAI announced GPT-3, a language model trained on large internet datasets. GPT-3 is aimed at natural language answering questions, but it can also translate between languages and coherently generate improvised text. It also announced that an associated API, named simply \"the API\", would form the heart of its first commercial product.[45]\\n\\nIn 2021, OpenAI introduced DALL-E, a specialized deep learning model adept at generating complex digital images from textual descriptions, utilizing a variant of the GPT-3 architecture.[46]\\n\\nIn December 2022, OpenAI received widespread media coverage after launching a free preview of ChatGPT, its new AI chatbot based on GPT-3.5. According to OpenAI, the preview received over a million signups within the first five days.[47] According to anonymous sources cited by Reuters in December 2022, OpenAI Global LLC was projecting $200 million of revenue in 2023 and $1 billion in revenue in 2024.[48]\\n\\nIn January 2023, OpenAI Global LLC was in talks for funding that would value the company at $29 billion, double its 2021 value.[49] On January 23, 2023, Microsoft announced a new multi-year US$10 billion investment in OpenAI Global LLC.[50][51] Rumors of this deal suggested that Microsoft may receive 75% of OpenAI\\'s profits until it secures its investment return and a 49% stake in the company.[52] The investment is believed to be a part of Microsoft\\'s efforts to integrate OpenAI\\'s ChatGPT into the Bing search engine. Google announced a similar AI application (Bard), after ChatGPT was launched, fearing that ChatGPT could threaten Google\\'s place as a go-to source for information.[53][54]\\n\\nOn February 7, 2023, Microsoft announced that it was building AI technology based on the same foundation as ChatGPT into Microsoft Bing, Edge, Microsoft 365 and other products.[55]\\n\\nOn March 3, 2023, Reid Hoffman resigned from his board seat, citing a desire to avoid conflicts of interest with his investments in AI companies via Greylock Partners, and his co-founding of the AI startup Inflection AI. Hoffman remained on the board of Microsoft, a major investor in OpenAI.[56]\\n\\nOn March 14, 2023, OpenAI released GPT-4, both as an API (with a waitlist) and as a feature of ChatGPT Plus.[57]\\n\\nOn May 22, 2023, Sam Altman, Greg Brockman and Ilya Sutskever posted recommendations for the governance of superintelligence.[58] They consider that superintelligence could happen within the next 10 years, allowing a \"dramatically more prosperous future\" and that \"given the possibility of existential risk, we can\\'t just be reactive\". They propose creating an international watchdog organization similar to IAEA to oversee AI systems above a certain capability threshold, suggesting that relatively weak AI systems on the other side should not be overly regulated. They also call for more technical safety research for superintelligences, and ask for more coordination, for example through governments launching a joint project which \"many current efforts become part of\".[58][59]\\n\\nIn August 2023, it was announced that OpenAI had acquired the New York-based start-up, Global Illumination, a company that deploys AI to develop digital infrastructure and creative tools.[60]\\n\\nOn November 6, 2023, OpenAI launched GPTs, allowing individuals to create customized versions of ChatGPT for specific purposes, further expanding the possibilities of AI applications across various industries.[61] On November 14, 2023, OpenAI announced that it will temporarily suspend new sign-ups for ChatGPT Plus to cope with high demand.[62]\\n\\n2023–present: Brief departure of Altman and Brockman\\nFurther information: Removal of Sam Altman from OpenAI\\n\\nCo-founder and CEO of OpenAI, Sam Altman\\n\\nCo-founder and President of OpenAI, Greg Brockman\\nOn November 17, 2023, Sam Altman was removed as CEO based on the board (comprised of Helen Toner, Ilya Sutskever, Adam D\\'Angelo and Tasha McCauley) citing a lack of confidence in him, with Chief Technology Officer Mira Murati taking over as interim CEO. Greg Brockman, the president of OpenAI, was removed as chairman of the board.[63][64] Brockman resigned from the company\\'s presidency shortly after the announcement, and reported some details of the events that occurred before he left.[65][66] This was followed by the resignation of three senior OpenAI researchers: director of research and GPT-4 lead Jakub Pachocki, head of AI risk Aleksander Madry, and researcher Szymon Sidor.[67][68]\\n\\nOn November 18, 2023, there reportedly were talks of Altman returning to his role as CEO amid pressure placed upon the board by investors such as Microsoft and Thrive Capital, who condemned Altman’s departure.[69] Although Altman himself spoke in favor of returning to OpenAI, he has stated that he was considering starting a new company and bringing former employees of OpenAI with him if talks do not work out.[70] If Altman were to return, the members of the board agreed they would \"in principle\" resign from the company.[71] On November 19, 2023, negotiations with Altman to return to the company failed and Murati was replaced by Emmett Shear to take over as interim CEO.[72] The board initially contacted Anthropic CEO Dario Amodei who was a former executive at OpenAI to replace Altman and proposed a merger, both offers were declined.[73]\\n\\nOn November 20, 2023, Microsoft CEO Satya Nadella announced Altman and Brockman will be joining the company to lead a new research team regarding advanced AI, and state they are still committed to OpenAI despite the turn of events.[74] The partnership had not been finalized as Altman gave the board another opportunity to negotiate with him.[75] About 738 of OpenAI\\'s 770 employees, including Murati and Sutskever, signed an open letter stating they would quit their jobs and join Microsoft if the board does not re-hire Altman as CEO and then resign.[76][77] Investors are considering taking legal action against the board members in response to potential mass resignations and Altman\\'s removal.[78] In response, OpenAI management sent an internal memo to employees stating that negotiations with Altman and the board are back in progress and will take some time.[79]\\n\\nOn November 21, 2023, after continued negotiations, Altman and Brockman returned to the company in their prior roles along with a reconstructed board made up of new members Bret Taylor (as chairman) and Lawrence Summers, with D\\'Angelo remaining.[80] On November 22, 2023, reports emerged suggesting that Sam Altman\\'s dismissal from OpenAI may be linked to his alleged mishandling of a significant breakthrough in the organization\\'s secretive project Q*. According to sources within OpenAI, project Q* is aimed at developing AI capabilities in logical reasoning and theorem proving. Concerns about Altman\\'s response to this development, specifically regarding the potential safety implications of the discovery, were reportedly raised to the company\\'s board shortly before his firing.[81][82]', metadata={'source': './docs/raw.txt'})]\n"
     ]
    }
   ],
   "source": [
    "# Visualize chunks and doc\n",
    "print(docs)"
   ]
  },
  {
   "cell_type": "code",
   "execution_count": 8,
   "metadata": {},
   "outputs": [
    {
     "name": "stdout",
     "output_type": "stream",
     "text": [
      "page_content='OpenAI is an American artificial intelligence (AI) research organization consisting of the non-profit OpenAI, Inc.[4] registered in Delaware and its for-profit subsidiary OpenAI Global, LLC.[5] OpenAI researches artificial intelligence with the declared intention of developing \"safe and beneficial\" artificial general intelligence, which it defines as \"highly autonomous systems that outperform humans at most economically valuable work\".[6] OpenAI has also developed several large language models, such as ChatGPT and GPT-4, as well as advanced image generation models like DALL-E 3,[7] and in the past published open-source models.[8]' metadata={'source': './docs/raw.txt'}\n"
     ]
    }
   ],
   "source": [
    "print(texts[0])"
   ]
  },
  {
   "cell_type": "code",
   "execution_count": 9,
   "metadata": {},
   "outputs": [],
   "source": [
    "# Import deps\n",
    "from langchain.embeddings import LlamaCppEmbeddings"
   ]
  },
  {
   "cell_type": "code",
   "execution_count": 10,
   "metadata": {},
   "outputs": [
    {
     "ename": "ValidationError",
     "evalue": "1 validation error for LlamaCppEmbeddings\n__root__\n  Could not load Llama model from path: ./models/llama-2-7b.Q5_K_M.gguf. Received error Model path does not exist: ./models/llama-2-7b.Q5_K_M.gguf (type=value_error)",
     "output_type": "error",
     "traceback": [
      "\u001b[1;31m---------------------------------------------------------------------------\u001b[0m",
      "\u001b[1;31mValidationError\u001b[0m                           Traceback (most recent call last)",
      "\u001b[1;32mc:\\Users\\seano\\code\\DocumentAugmentedGeneration\\document_augmented_generation.ipynb Cell 10\u001b[0m line \u001b[0;36m1\n\u001b[1;32m----> <a href='vscode-notebook-cell:/c%3A/Users/seano/code/DocumentAugmentedGeneration/document_augmented_generation.ipynb#X45sZmlsZQ%3D%3D?line=0'>1</a>\u001b[0m embeddings \u001b[39m=\u001b[39m LlamaCppEmbeddings(model_path\u001b[39m=\u001b[39;49mmodel_path)\n",
      "File \u001b[1;32mc:\\Users\\seano\\code\\DocumentAugmentedGeneration\\.conda\\lib\\site-packages\\pydantic\\main.py:341\u001b[0m, in \u001b[0;36mpydantic.main.BaseModel.__init__\u001b[1;34m()\u001b[0m\n",
      "\u001b[1;31mValidationError\u001b[0m: 1 validation error for LlamaCppEmbeddings\n__root__\n  Could not load Llama model from path: ./models/llama-2-7b.Q5_K_M.gguf. Received error Model path does not exist: ./models/llama-2-7b.Q5_K_M.gguf (type=value_error)"
     ]
    }
   ],
   "source": [
    "embeddings = LlamaCppEmbeddings(model_path=model_path)"
   ]
  },
  {
   "cell_type": "code",
   "execution_count": null,
   "metadata": {},
   "outputs": [],
   "source": [
    "# Convert langchain docs to str\n",
    "_texts = []\n",
    "for i in range(len(texts)):\n",
    "    _texts.append(texts[i].page_content)"
   ]
  },
  {
   "cell_type": "code",
   "execution_count": null,
   "metadata": {},
   "outputs": [
    {
     "data": {
      "text/plain": [
       "Document(page_content='OpenAI is an American artificial intelligence (AI) research organization consisting of the non-profit OpenAI, Inc.[4] registered in Delaware and its for-profit subsidiary OpenAI Global, LLC.[5] OpenAI researches artificial intelligence with the declared intention of developing \"safe and beneficial\" artificial general intelligence, which it defines as \"highly autonomous systems that outperform humans at most economically valuable work\".[6] OpenAI has also developed several large language models, such as ChatGPT and GPT-4, as well as advanced image generation models like DALL-E 3,[7] and in the past published open-source models.[8]', metadata={'source': './docs/raw.txt'})"
      ]
     },
     "execution_count": 81,
     "metadata": {},
     "output_type": "execute_result"
    }
   ],
   "source": [
    "texts[0]"
   ]
  },
  {
   "cell_type": "code",
   "execution_count": null,
   "metadata": {},
   "outputs": [
    {
     "data": {
      "text/plain": [
       "'OpenAI is an American artificial intelligence (AI) research organization consisting of the non-profit OpenAI, Inc.[4] registered in Delaware and its for-profit subsidiary OpenAI Global, LLC.[5] OpenAI researches artificial intelligence with the declared intention of developing \"safe and beneficial\" artificial general intelligence, which it defines as \"highly autonomous systems that outperform humans at most economically valuable work\".[6] OpenAI has also developed several large language models, such as ChatGPT and GPT-4, as well as advanced image generation models like DALL-E 3,[7] and in the past published open-source models.[8]'"
      ]
     },
     "execution_count": 82,
     "metadata": {},
     "output_type": "execute_result"
    }
   ],
   "source": [
    "_texts[0]"
   ]
  },
  {
   "cell_type": "code",
   "execution_count": null,
   "metadata": {},
   "outputs": [
    {
     "ename": "",
     "evalue": "",
     "output_type": "error",
     "traceback": [
      "\u001b[1;31mThe Kernel crashed while executing code in the the current cell or a previous cell. Please review the code in the cell(s) to identify a possible cause of the failure. Click <a href='https://aka.ms/vscodeJupyterKernelCrash'>here</a> for more info. View Jupyter <a href='command:jupyter.viewOutput'>log</a> for further details."
     ]
    }
   ],
   "source": [
    "# Embed list of texts\n",
    "embedded_texts = embeddings.embed_documents(_texts)"
   ]
  },
  {
   "cell_type": "code",
   "execution_count": null,
   "metadata": {},
   "outputs": [],
   "source": [
    "# Import deps\n",
    "from langchain.vectorstores import Chroma"
   ]
  },
  {
   "cell_type": "code",
   "execution_count": null,
   "metadata": {},
   "outputs": [],
   "source": [
    "# Create a chroma vectorstore from a list of documents\n",
    "db = Chroma.from_documents(texts, embeddings)"
   ]
  },
  {
   "cell_type": "code",
   "execution_count": null,
   "metadata": {},
   "outputs": [
    {
     "data": {
      "text/plain": [
       "[Document(page_content='The company then distributed equity to its employees and partnered with Microsoft,[37] announcing an investment package of $1 billion into the company. Since then, OpenAI systems have run on an Azure-based supercomputing platform from Microsoft.[38][39][40]', metadata={'source': './docs/raw.txt'})]"
      ]
     },
     "execution_count": 61,
     "metadata": {},
     "output_type": "execute_result"
    }
   ],
   "source": [
    "# Perform similarity search with the query over db\n",
    "docs = db.similarity_search(query, k=1)\n",
    "docs"
   ]
  },
  {
   "cell_type": "code",
   "execution_count": null,
   "metadata": {},
   "outputs": [
    {
     "data": {
      "text/plain": [
       "[Document(page_content='The company then distributed equity to its employees and partnered with Microsoft,[37] announcing an investment package of $1 billion into the company. Since then, OpenAI systems have run on an Azure-based supercomputing platform from Microsoft.[38][39][40]', metadata={'source': './docs/raw.txt'})]"
      ]
     },
     "execution_count": 62,
     "metadata": {},
     "output_type": "execute_result"
    }
   ],
   "source": [
    "# Search for documents using query vector\n",
    "query_vector = embeddings.embed_query(query)\n",
    "docs = db.similarity_search_by_vector(query_vector, k=1)\n",
    "docs"
   ]
  },
  {
   "cell_type": "code",
   "execution_count": null,
   "metadata": {},
   "outputs": [],
   "source": [
    "# Import deps\n",
    "from langchain.chains import LLMChain\n",
    "from langchain.prompts import PromptTemplate"
   ]
  },
  {
   "cell_type": "code",
   "execution_count": null,
   "metadata": {},
   "outputs": [],
   "source": [
    "# Craft prompt template that works best for our LLM\n",
    "template = \"\"\"Use the following pieces of context to answer the question at the end.\n",
    "If you don't know the answer, just say you don't know, don't try to make up an answer.\n",
    "{context}\n",
    "Question: {question}\n",
    "Answer:\"\"\""
   ]
  },
  {
   "cell_type": "code",
   "execution_count": null,
   "metadata": {},
   "outputs": [
    {
     "data": {
      "text/plain": [
       "['context', 'question']"
      ]
     },
     "execution_count": 65,
     "metadata": {},
     "output_type": "execute_result"
    }
   ],
   "source": [
    "# Context is the similar document we find in the vector db, question will be query\n",
    "prompt = PromptTemplate .from_template(template)\n",
    "prompt.input_variables"
   ]
  },
  {
   "cell_type": "code",
   "execution_count": null,
   "metadata": {},
   "outputs": [
    {
     "data": {
      "text/plain": [
       "'The company then distributed equity to its employees and partnered with Microsoft,[37] announcing an investment package of $1 billion into the company. Since then, OpenAI systems have run on an Azure-based supercomputing platform from Microsoft.[38][39][40]'"
      ]
     },
     "execution_count": 66,
     "metadata": {},
     "output_type": "execute_result"
    }
   ],
   "source": [
    "similar_doc = db.similarity_search(query, k=1)\n",
    "context = similar_doc[0].page_content\n",
    "context"
   ]
  },
  {
   "cell_type": "code",
   "execution_count": null,
   "metadata": {},
   "outputs": [],
   "source": [
    "# Import deps\n",
    "from langchain.llms import LlamaCpp"
   ]
  },
  {
   "cell_type": "code",
   "execution_count": null,
   "metadata": {},
   "outputs": [
    {
     "name": "stderr",
     "output_type": "stream",
     "text": [
      "AVX = 1 | AVX2 = 1 | AVX512 = 0 | AVX512_VBMI = 0 | AVX512_VNNI = 0 | FMA = 1 | NEON = 0 | ARM_FMA = 0 | F16C = 1 | FP16_VA = 0 | WASM_SIMD = 0 | BLAS = 0 | SSE3 = 1 | SSSE3 = 0 | VSX = 0 | \n"
     ]
    }
   ],
   "source": [
    "# Import LLM\n",
    "llm = LlamaCpp(model_path=model_path)"
   ]
  },
  {
   "cell_type": "code",
   "execution_count": null,
   "metadata": {},
   "outputs": [
    {
     "data": {
      "text/plain": [
       "' Sam Altman (Co-founder and chairman)[41]\\nSamuel Gregg Altman is an American venture capitalist, entrepreneur, and businessperson who has been Chairman at OpenAI since April 2015. He has over 10 years of experience in the private equity industry and has worked at a number of companies including Lightspeed Ventures, Sequoia Capital, Y Combinator and StartX.[42]\\nSam is also an active investor with the firm. He was previously a co-founder of PayPal and has led investments into companies such as Reddit Inc., Airbnb Inc., Twitter Inc., Pandora Media Inc., Facebook Inc., Slack Technologies Inc., Stripe, Uber Technologies Inc., Square Inc., Palantir Technologies Inc.\\nOpenAI is a research company that develops open-source artificial intelligence (AI) technologies with the goal of creating advanced AI systems and enabling their deployment in real-world applications.[4] The OpenAI project was founded in December 2015 by Sam Altman, Elon Musk, Peter Thiel and other entrepreneurs,[5][6'"
      ]
     },
     "execution_count": 69,
     "metadata": {},
     "output_type": "execute_result"
    }
   ],
   "source": [
    "# Use LLM to generate an answer from the context\n",
    "query_llm = LLMChain(prompt=prompt, llm=llm)\n",
    "response = query_llm.run({\"context\": context, \"question\": query})\n",
    "response"
   ]
  }
 ],
 "metadata": {
  "kernelspec": {
   "display_name": "DocQA-yl7AKIig",
   "language": "python",
   "name": "python3"
  },
  "language_info": {
   "codemirror_mode": {
    "name": "ipython",
    "version": 3
   },
   "file_extension": ".py",
   "mimetype": "text/x-python",
   "name": "python",
   "nbconvert_exporter": "python",
   "pygments_lexer": "ipython3",
   "version": "3.9.18"
  }
 },
 "nbformat": 4,
 "nbformat_minor": 2
}
