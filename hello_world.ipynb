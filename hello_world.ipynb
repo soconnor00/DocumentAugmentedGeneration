{
 "cells": [
  {
   "cell_type": "code",
   "execution_count": 5,
   "metadata": {},
   "outputs": [],
   "source": [
    "# Import dependencies\n",
    "from llama_cpp import Llama"
   ]
  },
  {
   "cell_type": "code",
   "execution_count": 6,
   "metadata": {},
   "outputs": [
    {
     "name": "stderr",
     "output_type": "stream",
     "text": [
      "AVX = 1 | AVX2 = 1 | AVX512 = 0 | AVX512_VBMI = 0 | AVX512_VNNI = 0 | FMA = 1 | NEON = 0 | ARM_FMA = 0 | F16C = 1 | FP16_VA = 0 | WASM_SIMD = 0 | BLAS = 0 | SSE3 = 1 | SSSE3 = 0 | VSX = 0 | \n"
     ]
    }
   ],
   "source": [
    "# Load LLM\n",
    "llm=Llama(model_path=\"./models/llama-2-70b.Q5_K_M.gguf\")"
   ]
  },
  {
   "cell_type": "code",
   "execution_count": 7,
   "metadata": {},
   "outputs": [],
   "source": [
    "# Pass prompt to LLM\n",
    "response = llm(\"Who directed Star Wars?\")"
   ]
  },
  {
   "cell_type": "code",
   "execution_count": null,
   "metadata": {},
   "outputs": [
    {
     "name": "stdout",
     "output_type": "stream",
     "text": [
      "\n",
      "How long did it take to make Star Wars?\n",
      "Who is the main villain in Star Wars?\n",
      "What is Star Wars called in China?\n",
      "Who was the first black stormtrooper?\n",
      "Is Darth Maul dead?\n",
      "Is Chewbacca a girl?\n",
      "Who invented R2D2?\n",
      "How much older is Yoda than Obi Wan?\n",
      "Will there be a live action Star Wars series?\n",
      "Why did they change the name of Star Wars in China?\n",
      "What does Star Wars mean in English?\n",
      "Is Darth Vader Japanese?\n",
      "Why did Star Wars\n"
     ]
    }
   ],
   "source": [
    "# View response\n",
    "print(response['choices'][0]['text'])"
   ]
  }
 ],
 "metadata": {
  "kernelspec": {
   "display_name": "py39",
   "language": "python",
   "name": "python3"
  },
  "language_info": {
   "codemirror_mode": {
    "name": "ipython",
    "version": 3
   },
   "file_extension": ".py",
   "mimetype": "text/x-python",
   "name": "python",
   "nbconvert_exporter": "python",
   "pygments_lexer": "ipython3",
   "version": "3.9.18"
  }
 },
 "nbformat": 4,
 "nbformat_minor": 2
}
